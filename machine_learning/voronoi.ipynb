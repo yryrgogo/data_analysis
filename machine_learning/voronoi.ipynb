{
 "cells": [
  {
   "cell_type": "code",
   "execution_count": 70,
   "metadata": {
    "ExecuteTime": {
     "end_time": "2018-05-11T23:14:17.856341Z",
     "start_time": "2018-05-11T23:14:17.832986Z"
    }
   },
   "outputs": [],
   "source": [
    "import sys\n",
    "import numpy as np\n",
    "import scipy.spatial.distance as dist\n",
    "import matplotlib.pyplot as plt\n",
    "import matplotlib.cm as cm\n",
    "from __future__ import print_function, division\n",
    "import pandas as pd\n",
    "%matplotlib inline\n",
    " \n",
    "def label_cluster_num(means, mesh_points, metrics):\n",
    "    '''\n",
    "    Args:\n",
    "        means(list)  : 母点の座標\n",
    "        mesh_points  : 平面の全座標\n",
    "        metrics(func): 距離関数(scipy) \n",
    "    '''\n",
    "    def label(point):\n",
    "        '''\n",
    "        meansは配列で、その要素をlambdaのmeanとしてmetricsへ順に渡し、mapでリスト化。\n",
    "        距離関数に各母点とそのポイントの距離を計算したリストができるので、argminで\n",
    "        最小値となった母点のインデックスを返す（=cluster番号）\n",
    "        '''\n",
    "        cluster_label = np.argmin(list(map(lambda mean: metrics(mean, point), means)))\n",
    "        return point, cluster_label\n",
    "    '''\n",
    "    mesh_pointsに入った各座標をlabel関数に渡して、その座標がどのクラスタに\n",
    "    属するかのラベルをつけ、リストを返す\n",
    "    '''\n",
    "    return list(map(label, mesh_points))\n",
    "\n",
    "def show_voronoi_with_metrics(metrics):\n",
    "    labeled_mesh_points = label_cluster_num(centroids, mesh_points, metrics=metrics)\n",
    "    plt.figure()\n",
    "    fig, ax = plt.subplots()\n",
    " \n",
    "    ax.set_aspect('equal')\n",
    "    ax.grid(True, which='both')\n",
    "    ax.axhline(y=0, color='k')\n",
    "    ax.axvline(x=0, color='k')\n",
    "    ax.set_xlim([-10, 10])\n",
    "    ax.set_ylim([-10, 10])\n",
    " \n",
    "    for i in range(0, len(centroids)):\n",
    "        cluster_points = [point for point, label in labeled_mesh_points if label==i]\n",
    "        \n",
    "        xp = [xy[0] for xy in cluster_points]\n",
    "        yp = [xy[1] for xy in cluster_points]\n",
    "        ax.scatter(xp, yp, color=cm.prism(i / float(len(centroids))), marker='.')\n",
    "        \n",
    "    ax.scatter([cent[0] for cent in centroids], [cent[1] for cent in centroids], color=\"g\", marker='o')\n",
    "    \n",
    "    plt.show()"
   ]
  },
  {
   "cell_type": "code",
   "execution_count": 98,
   "metadata": {
    "ExecuteTime": {
     "end_time": "2018-05-11T23:27:31.731740Z",
     "start_time": "2018-05-11T23:27:30.905576Z"
    }
   },
   "outputs": [
    {
     "data": {
      "text/plain": [
       "<matplotlib.figure.Figure at 0x7fa18cb58f60>"
      ]
     },
     "metadata": {},
     "output_type": "display_data"
    },
    {
     "data": {
      "image/png": "[encoded data removed]",
      "text/plain": [
       "<matplotlib.figure.Figure at 0x7fa18c48b400>"
      ]
     },
     "metadata": {},
     "output_type": "display_data"
    }
   ],
   "source": [
    "centroids = np.array([[3, 3], [-2, 5], [7, -5], [-8, -8]])\n",
    "xs = np.linspace(-10, 10, 100)\n",
    "ys = np.linspace(-10, 10, 100)\n",
    "xx, yy = np.meshgrid(xs, ys)\n",
    "mesh_points = np.c_[xx.ravel(), yy.ravel()]\n",
    "\n",
    "show_voronoi_with_metrics(dist.euclidean)"
   ]
  },
  {
   "cell_type": "code",
   "execution_count": 57,
   "metadata": {
    "ExecuteTime": {
     "end_time": "2018-05-11T23:07:02.740618Z",
     "start_time": "2018-05-11T23:07:02.414915Z"
    }
   },
   "outputs": [
    {
     "data": {
      "image/png": "[encoded data removed]",
      "text/plain": [
       "<matplotlib.figure.Figure at 0x7fa18d141a90>"
      ]
     },
     "metadata": {},
     "output_type": "display_data"
    }
   ],
   "source": [
    "# methgridとnp.c_を使って全座標の色づけを行う\n",
    "\n",
    "x = np.arange(10)\n",
    "y = np.arange(0,20,2)\n",
    "\n",
    "# meshgridで2つの配列の行列成分の全組み合わせを作成する\n",
    "# np.tile(x, (len(y),1))とnp.tile(y, (len(x), 1))をそれぞれ出力する感じ\n",
    "xx, yy = np.meshgrid(x, y)\n",
    "# ravelで行列を行方向につなぎ、1次元にする\n",
    "# c_で1次元になった二つの配列から同じ成分同士を抜き出し、n行2列の行列を作る\n",
    "ret = np.c_[xx.ravel(), yy.ravel()]\n",
    "\n",
    "# x^2の座標を作る\n",
    "x = np.arange(-2, 2, 0.01)\n",
    "x2 = x**2\n",
    "# yの座標を作る\n",
    "y = np.arange(-5, 0, 0.01)\n",
    "\n",
    "# meshgridは境界線の座標を作るのではなく、全ての座標の値を出して、そこを色づけすることにより、領域を可視化する\n",
    "xx,yy = np.meshgrid(x2, y)\n",
    "\n",
    "arg = np.c_[xx.ravel(), yy.ravel()]\n",
    "ret = np.sum(arg, axis=1) # 各点でx^2+yを行う.200000個の要素ができる\n",
    "\n",
    "# x軸(400成分)とy軸(500成分)を設定し、x^2+yで得た200000座標の値が>0となる空間を指定して色づけする\n",
    "plt.contourf(x, y, ret.reshape(xx.shape)>0, cmap=plt.cm.Paired, alpha=0.8)\n",
    "plt.show()"
   ]
  }
 ],
 "metadata": {
  "hide_input": false,
  "kernelspec": {
   "display_name": "Python 3",
   "language": "python",
   "name": "python3"
  },
  "language_info": {
   "codemirror_mode": {
    "name": "ipython",
    "version": 3
   },
   "file_extension": ".py",
   "mimetype": "text/x-python",
   "name": "python",
   "nbconvert_exporter": "python",
   "pygments_lexer": "ipython3",
   "version": "3.6.3"
  }
 },
 "nbformat": 4,
 "nbformat_minor": 2
}
