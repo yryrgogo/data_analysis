{
 "cells": [
  {
   "cell_type": "code",
   "execution_count": null,
   "metadata": {
    "collapsed": true
   },
   "outputs": [],
   "source": [
    "import re\n",
    "import json\n",
    "import MeCab\n",
    "from requests_oauthlib import OAuth1Session\n",
    "\n",
    "\n",
    "KEYWORD = \"芸能 OR アニメ OR 漫画 OR TV OR ゲーム\"            #エンタメ系のキーワードを入力\n",
    "CLASS_LABEL = \"__label__1\"\n",
    "\n",
    "def main():\n",
    "    tweets = get_tweet()                #ツイートを取得\n",
    "    surfaces = get_surfaces(tweets)     #ツイートを分かち書き\n",
    "    write_txt(surfaces)                 #ツイートを書き込み\n",
    "\n",
    "\n",
    "def get_surfaces(contents):\n",
    "    # 分かち書きの取得\n",
    "    results = []\n",
    "    for row in contents:\n",
    "        content = cleansing(row)\n",
    "        tagger = MeCab.Tagger('')\n",
    "        tagger.parse('')\n",
    "        surf = []\n",
    "        node = tagger.parseToNode(content)\n",
    "        while node:\n",
    "            surf.append(node.surface)\n",
    "            node = node.next\n",
    "        results.append(surf)\n",
    "    return results\n",
    "\n",
    "\n",
    "def cleansing(text):\n",
    "    return text\n",
    "\n",
    "\n",
    "def write_txt(contents):\n",
    "    try:\n",
    "        if(len(contents) > 0):\n",
    "            filename = CLASS_LABEL + \".txt\"\n",
    "            labelText = CLASS_LABEL + \", \"\n",
    "\n",
    "            f = open(filename, 'a')\n",
    "            for row in contents:\n",
    "                # 空行区切りの文字列に変換\n",
    "                spaceTokens = \" \".join(row);\n",
    "                result = labelText + spaceTokens + \"\\n\"\n",
    "                # 書き込み\n",
    "                f.write(result)\n",
    "            f.close()\n",
    "\n",
    "        print(str(len(contents))+\"行を書き込み\")\n",
    "\n",
    "    except Exception as e:\n",
    "        print(\"テキストへの書き込みに失敗\")\n",
    "        print(e)\n",
    "\n",
    "        \n",
    "if __name__ == '__main__':\n",
    "    main()"
   ]
  }
 ],
 "metadata": {
  "hide_input": false,
  "kernelspec": {
   "display_name": "Python 3",
   "language": "python",
   "name": "python3"
  },
  "language_info": {
   "codemirror_mode": {
    "name": "ipython",
    "version": 3
   },
   "file_extension": ".py",
   "mimetype": "text/x-python",
   "name": "python",
   "nbconvert_exporter": "python",
   "pygments_lexer": "ipython3",
   "version": "3.6.3"
  }
 },
 "nbformat": 4,
 "nbformat_minor": 2
}
